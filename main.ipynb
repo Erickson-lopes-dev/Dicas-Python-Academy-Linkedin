{
 "cells": [
  {
   "cell_type": "code",
   "execution_count": 11,
   "metadata": {
    "ExecuteTime": {
     "end_time": "2023-04-02T18:52:36.453016Z",
     "start_time": "2023-04-02T18:52:34.120752Z"
    }
   },
   "outputs": [],
   "source": [
    "from pyspark.sql import SparkSession\n",
    "\n",
    "spark = SparkSession.builder.appName(\"Python Spark SQL basic example\").getOrCreate()\n",
    "\n",
    "schema = \"Produto String, Quantidade Integer\"\n",
    "dados = [(\"Caneta\", 20), (\"Tesoura\", 30), (\"Caneta\", 40)]\n",
    "\n",
    "df = spark.createDataFrame(data=dados, schema=schema)"
   ]
  },
  {
   "cell_type": "markdown",
   "metadata": {},
   "source": [
    "# Visualizando dados"
   ]
  },
  {
   "cell_type": "code",
   "execution_count": 12,
   "metadata": {
    "ExecuteTime": {
     "end_time": "2023-04-02T18:52:45.265086Z",
     "start_time": "2023-04-02T18:52:43.034734Z"
    }
   },
   "outputs": [
    {
     "name": "stdout",
     "output_type": "stream",
     "text": [
      "+-------+----------+\n",
      "|Produto|Quantidade|\n",
      "+-------+----------+\n",
      "| Caneta|        20|\n",
      "|Tesoura|        30|\n",
      "| Caneta|        40|\n",
      "+-------+----------+\n",
      "\n"
     ]
    }
   ],
   "source": [
    "df.show()"
   ]
  },
  {
   "cell_type": "markdown",
   "metadata": {},
   "source": [
    "# Selecionando colunas"
   ]
  },
  {
   "cell_type": "code",
   "execution_count": 4,
   "metadata": {
    "ExecuteTime": {
     "end_time": "2023-04-02T18:52:59.700062Z",
     "start_time": "2023-04-02T18:52:58.939697Z"
    }
   },
   "outputs": [
    {
     "name": "stdout",
     "output_type": "stream",
     "text": [
      "+-------+\n",
      "|Produto|\n",
      "+-------+\n",
      "| Caneta|\n",
      "|Tesoura|\n",
      "| Caneta|\n",
      "+-------+\n",
      "\n"
     ]
    }
   ],
   "source": [
    "df.select(\"Produto\").show()"
   ]
  },
  {
   "cell_type": "markdown",
   "metadata": {},
   "source": [
    "# Filtrando dados"
   ]
  },
  {
   "cell_type": "code",
   "execution_count": 9,
   "metadata": {
    "ExecuteTime": {
     "end_time": "2023-04-02T18:54:36.276231Z",
     "start_time": "2023-04-02T18:54:35.548381Z"
    }
   },
   "outputs": [
    {
     "name": "stdout",
     "output_type": "stream",
     "text": [
      "+-------+----------+\n",
      "|Produto|Quantidade|\n",
      "+-------+----------+\n",
      "|Tesoura|        30|\n",
      "| Caneta|        40|\n",
      "+-------+----------+\n",
      "\n"
     ]
    }
   ],
   "source": [
    "df.filter(df[\"Quantidade\"] > 20).show()"
   ]
  },
  {
   "cell_type": "code",
   "execution_count": 7,
   "metadata": {
    "ExecuteTime": {
     "end_time": "2023-04-02T18:54:18.460939Z",
     "start_time": "2023-04-02T18:54:18.087145Z"
    }
   },
   "outputs": [
    {
     "name": "stdout",
     "output_type": "stream",
     "text": [
      "+-------+----------+\n",
      "|Produto|Quantidade|\n",
      "+-------+----------+\n",
      "| Caneta|        20|\n",
      "|Tesoura|        30|\n",
      "| Caneta|        40|\n",
      "+-------+----------+\n",
      "\n"
     ]
    }
   ],
   "source": [
    "df.show()"
   ]
  },
  {
   "cell_type": "markdown",
   "metadata": {},
   "source": [
    "# Agrupando dados"
   ]
  },
  {
   "cell_type": "code",
   "execution_count": 10,
   "metadata": {
    "ExecuteTime": {
     "end_time": "2023-04-02T18:56:03.868477Z",
     "start_time": "2023-04-02T18:56:02.667318Z"
    }
   },
   "outputs": [
    {
     "name": "stdout",
     "output_type": "stream",
     "text": [
      "+-------+---------------+\n",
      "|Produto|sum(Quantidade)|\n",
      "+-------+---------------+\n",
      "| Caneta|             60|\n",
      "|Tesoura|             30|\n",
      "+-------+---------------+\n",
      "\n"
     ]
    }
   ],
   "source": [
    "df.groupBy(\"Produto\").sum().show()"
   ]
  },
  {
   "cell_type": "code",
   "execution_count": 13,
   "metadata": {
    "ExecuteTime": {
     "start_time": "2023-04-02T18:58:37.336098Z",
     "end_time": "2023-04-02T18:58:38.404846Z"
    }
   },
   "outputs": [
    {
     "name": "stderr",
     "output_type": "stream",
     "text": [
      "[Stage 27:===================>                                      (2 + 4) / 6]\r"
     ]
    },
    {
     "name": "stdout",
     "output_type": "stream",
     "text": [
      "+-------+---------------+\n",
      "|Produto|sum(Quantidade)|\n",
      "+-------+---------------+\n",
      "| Caneta|             60|\n",
      "|Tesoura|             30|\n",
      "+-------+---------------+\n",
      "\n"
     ]
    },
    {
     "name": "stderr",
     "output_type": "stream",
     "text": [
      "                                                                                \r"
     ]
    }
   ],
   "source": [
    "from pyspark.sql.functions import sum\n",
    "df.groupBy(\"Produto\").agg(sum(\"Quantidade\")).show()"
   ]
  },
  {
   "cell_type": "markdown",
   "source": [
    "# Aplicando expressões"
   ],
   "metadata": {
    "collapsed": false
   }
  },
  {
   "cell_type": "code",
   "execution_count": 18,
   "outputs": [
    {
     "name": "stdout",
     "output_type": "stream",
     "text": [
      "+-------+----------+-------+\n",
      "|Produto|Quantidade|Imposto|\n",
      "+-------+----------+-------+\n",
      "| Caneta|        20|    4.0|\n",
      "|Tesoura|        30|    6.0|\n",
      "| Caneta|        40|    8.0|\n",
      "+-------+----------+-------+\n",
      "\n"
     ]
    }
   ],
   "source": [
    "from pyspark.sql.functions import expr\n",
    "\n",
    "df.select(\"Produto\", \"Quantidade\", expr(\"Quantidade * 0.2 as Imposto\")).show()"
   ],
   "metadata": {
    "collapsed": false,
    "ExecuteTime": {
     "start_time": "2023-04-02T19:02:35.399953Z",
     "end_time": "2023-04-02T19:02:35.901383Z"
    }
   }
  },
  {
   "cell_type": "code",
   "execution_count": null,
   "outputs": [],
   "source": [],
   "metadata": {
    "collapsed": false
   }
  }
 ],
 "metadata": {
  "kernelspec": {
   "display_name": "Python 3 (ipykernel)",
   "language": "python",
   "name": "python3"
  },
  "language_info": {
   "codemirror_mode": {
    "name": "ipython",
    "version": 3
   },
   "file_extension": ".py",
   "mimetype": "text/x-python",
   "name": "python",
   "nbconvert_exporter": "python",
   "pygments_lexer": "ipython3",
   "version": "3.10.6"
  }
 },
 "nbformat": 4,
 "nbformat_minor": 1
}
